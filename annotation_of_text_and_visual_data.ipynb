{
 "cells": [
  {
   "cell_type": "code",
   "execution_count": 8,
   "id": "9228d797",
   "metadata": {},
   "outputs": [
    {
     "name": "stdout",
     "output_type": "stream",
     "text": [
      "Araba 1: Başlangıç noktası: (363, 446), Bitiş noktası: (613, 622)\n",
      "Araba 2: Başlangıç noktası: (647, 477), Bitiş noktası: (760, 564)\n"
     ]
    }
   ],
   "source": [
    "import cv2\n",
    "from matplotlib import pyplot as plt\n",
    "\n",
    "# Küresel değişkenler\n",
    "drawing = False  # Fare basılı mı?\n",
    "ix, iy = -1, -1  # Başlangıç koordinatları\n",
    "boxes = []  # Etiketlenen kutuların listesi\n",
    "\n",
    "# Fare olayları için geri çağırma fonksiyonu\n",
    "def draw_rectangle(event, x, y, flags, param):\n",
    "    global ix, iy, drawing, boxes, image\n",
    "\n",
    "    if event == cv2.EVENT_LBUTTONDOWN:  # Sol tıklama ile başlar\n",
    "        drawing = True\n",
    "        ix, iy = x, y\n",
    "\n",
    "    elif event == cv2.EVENT_MOUSEMOVE:  # Fare hareket ederken çizim yapılır\n",
    "        if drawing:\n",
    "            img_copy = image.copy()\n",
    "            cv2.rectangle(img_copy, (ix, iy), (x, y), (0, 255, 0), 2)\n",
    "            cv2.imshow('Image', img_copy)\n",
    "\n",
    "    elif event == cv2.EVENT_LBUTTONUP:  # Sol tıklama bittiğinde dikdörtgen çizilir\n",
    "        drawing = False\n",
    "        boxes.append((ix, iy, x, y))  # Dikdörtgenin başlangıç ve bitiş koordinatlarını kaydet\n",
    "        cv2.rectangle(image, (ix, iy), (x, y), (0, 255, 0), 2)\n",
    "        cv2.imshow('Image', image)\n",
    "\n",
    "# Görseli yükle\n",
    "image = cv2.imread('street.jpeg')  # Kendi resminizi buraya ekleyin\n",
    "\n",
    "# Pencereyi oluştur ve fare olaylarını ayarla\n",
    "cv2.namedWindow('Image')\n",
    "cv2.setMouseCallback('Image', draw_rectangle)\n",
    "\n",
    "# Görseli göster ve işlem bitene kadar bekle\n",
    "while True:\n",
    "    cv2.imshow('Image', image)\n",
    "    if cv2.waitKey(1) & 0xFF == ord('q'):  # 'q' tuşuna basarak çıkış yapabilirsiniz\n",
    "        break\n",
    "\n",
    "# Etiketlenmiş dikdörtgenleri kaydet\n",
    "cv2.destroyAllWindows()\n",
    "\n",
    "# Etiketlenen kutuları ekrana yazdır\n",
    "for i, box in enumerate(boxes):\n",
    "    print(f\"Araba {i + 1}: Başlangıç noktası: ({box[0]}, {box[1]}), Bitiş noktası: ({box[2]}, {box[3]})\")\n"
   ]
  },
  {
   "cell_type": "code",
   "execution_count": 9,
   "id": "da4c02cf",
   "metadata": {},
   "outputs": [],
   "source": [
    "import json\n",
    "\n",
    "# Etiketlenen bölgeleri bir JSON dosyasına kaydet\n",
    "with open('annotations.json', 'w') as f:\n",
    "    json.dump(boxes, f)\n"
   ]
  },
  {
   "cell_type": "code",
   "execution_count": 10,
   "id": "0ee49e8c",
   "metadata": {},
   "outputs": [],
   "source": [
    "import cv2\n",
    "import json\n",
    "\n",
    "# Görseli yükle\n",
    "image = cv2.imread('street.jpeg')\n",
    "\n",
    "# JSON dosyasından etiketlenen bölgeleri yükle\n",
    "with open('annotations.json', 'r') as f:\n",
    "    boxes = json.load(f)\n",
    "\n",
    "# Etiketlenen bölgeleri görselleştir\n",
    "for box in boxes:\n",
    "    cv2.rectangle(image, (box[0], box[1]), (box[2], box[3]), (0, 255, 0), 2)\n",
    "\n",
    "# Görseli göster\n",
    "cv2.imshow('Annotated Image', image)\n",
    "cv2.waitKey(0)\n",
    "cv2.destroyAllWindows()\n"
   ]
  },
  {
   "cell_type": "code",
   "execution_count": 12,
   "id": "afb79962",
   "metadata": {},
   "outputs": [
    {
     "name": "stdout",
     "output_type": "stream",
     "text": [
      "Çokgen 1: Noktalar: [(42, 300)]\n",
      "Çokgen 2: Noktalar: [(198, 216), (498, 202), (499, 174), (383, 162)]\n",
      "Çokgen 3: Noktalar: [(28, 225), (26, 312), (181, 314), (216, 256), (175, 220)]\n"
     ]
    }
   ],
   "source": [
    "import cv2\n",
    "import numpy as np\n",
    "\n",
    "# Küresel değişkenler\n",
    "drawing = False  # Fare basılı mı?\n",
    "ix, iy = -1, -1  # Başlangıç koordinatları\n",
    "points = []  # Çokgenin köşe noktaları\n",
    "polygons = []  # Çizilen çokgenlerin listesi\n",
    "\n",
    "# Fare olayları için geri çağırma fonksiyonu\n",
    "def draw_polygon(event, x, y, flags, param):\n",
    "    global ix, iy, drawing, points, polygons, image\n",
    "\n",
    "    if event == cv2.EVENT_LBUTTONDOWN:  # Sol tıklama ile başlar\n",
    "        if not drawing:\n",
    "            drawing = True\n",
    "            points = [(x, y)]  # Yeni çokgen başlat\n",
    "        else:\n",
    "            points.append((x, y))  # Yeni nokta ekle\n",
    "            # Geçici çokgen çizimi\n",
    "            img_copy = image.copy()\n",
    "            cv2.polylines(img_copy, [np.array(points)], isClosed=False, color=(0, 255, 0), thickness=2)\n",
    "            cv2.imshow('Image', img_copy)\n",
    "\n",
    "    elif event == cv2.EVENT_RBUTTONDOWN:  # Sağ tıklama ile çokgen tamamlanır\n",
    "        if drawing:\n",
    "            drawing = False\n",
    "            polygons.append(points)  # Çokgeni kaydet\n",
    "            # Tamamlanmış çokgeni çiz\n",
    "            cv2.polylines(image, [np.array(points)], isClosed=True, color=(0, 255, 0), thickness=2)\n",
    "            cv2.imshow('Image', image)\n",
    "\n",
    "# Görseli yükle\n",
    "image = cv2.imread('park.jpg')  # Kendi resminizi buraya ekleyin\n",
    "\n",
    "# Pencereyi oluştur ve fare olaylarını ayarla\n",
    "cv2.namedWindow('Image')\n",
    "cv2.setMouseCallback('Image', draw_polygon)\n",
    "\n",
    "# Görseli göster ve işlem bitene kadar bekle\n",
    "while True:\n",
    "    cv2.imshow('Image', image)\n",
    "    if cv2.waitKey(1) & 0xFF == ord('q'):  # 'q' tuşuna basarak çıkış yapabilirsiniz\n",
    "        break\n",
    "\n",
    "# Etiketlenen çokgenleri aynı dosyaya kaydet\n",
    "cv2.imwrite('street_polygons.jpeg', image)\n",
    "\n",
    "# Etiketlenmiş görseli tekrar göster\n",
    "image_with_polygons = cv2.imread('street_polygons.jpeg')\n",
    "cv2.imshow('Annotated Image', image_with_polygons)\n",
    "cv2.waitKey(0)\n",
    "cv2.destroyAllWindows()\n",
    "\n",
    "# Etiketlenen çokgenleri ekrana yazdır\n",
    "for i, polygon in enumerate(polygons):\n",
    "    print(f\"Çokgen {i + 1}: Noktalar: {polygon}\")\n"
   ]
  },
  {
   "cell_type": "code",
   "execution_count": 13,
   "id": "67343f4b",
   "metadata": {},
   "outputs": [],
   "source": [
    "# metinsel verilerin anotasyonu \n",
    "#--------------------------------------"
   ]
  },
  {
   "cell_type": "code",
   "execution_count": 14,
   "id": "8a0b9bc2",
   "metadata": {},
   "outputs": [
    {
     "name": "stdout",
     "output_type": "stream",
     "text": [
      "Requirement already satisfied: ipywidgets in c:\\users\\dilar\\anaconda3\\lib\\site-packages (7.6.5)\n",
      "Requirement already satisfied: nbformat>=4.2.0 in c:\\users\\dilar\\anaconda3\\lib\\site-packages (from ipywidgets) (5.3.0)\n",
      "Requirement already satisfied: ipykernel>=4.5.1 in c:\\users\\dilar\\anaconda3\\lib\\site-packages (from ipywidgets) (6.9.1)\n",
      "Requirement already satisfied: widgetsnbextension~=3.5.0 in c:\\users\\dilar\\anaconda3\\lib\\site-packages (from ipywidgets) (3.5.2)\n",
      "Requirement already satisfied: jupyterlab-widgets>=1.0.0 in c:\\users\\dilar\\anaconda3\\lib\\site-packages (from ipywidgets) (1.0.0)\n",
      "Requirement already satisfied: ipython-genutils~=0.2.0 in c:\\users\\dilar\\anaconda3\\lib\\site-packages (from ipywidgets) (0.2.0)\n",
      "Requirement already satisfied: ipython>=4.0.0 in c:\\users\\dilar\\anaconda3\\lib\\site-packages (from ipywidgets) (8.2.0)\n",
      "Requirement already satisfied: traitlets>=4.3.1 in c:\\users\\dilar\\anaconda3\\lib\\site-packages (from ipywidgets) (5.1.1)\n",
      "Requirement already satisfied: jupyter-client<8.0 in c:\\users\\dilar\\anaconda3\\lib\\site-packages (from ipykernel>=4.5.1->ipywidgets) (6.1.12)\n",
      "Requirement already satisfied: nest-asyncio in c:\\users\\dilar\\anaconda3\\lib\\site-packages (from ipykernel>=4.5.1->ipywidgets) (1.5.5)\n",
      "Requirement already satisfied: debugpy<2.0,>=1.0.0 in c:\\users\\dilar\\anaconda3\\lib\\site-packages (from ipykernel>=4.5.1->ipywidgets) (1.5.1)\n",
      "Requirement already satisfied: tornado<7.0,>=4.2 in c:\\users\\dilar\\anaconda3\\lib\\site-packages (from ipykernel>=4.5.1->ipywidgets) (6.1)\n",
      "Requirement already satisfied: matplotlib-inline<0.2.0,>=0.1.0 in c:\\users\\dilar\\anaconda3\\lib\\site-packages (from ipykernel>=4.5.1->ipywidgets) (0.1.2)\n",
      "Requirement already satisfied: setuptools>=18.5 in c:\\users\\dilar\\anaconda3\\lib\\site-packages (from ipython>=4.0.0->ipywidgets) (61.2.0)\n",
      "Requirement already satisfied: stack-data in c:\\users\\dilar\\anaconda3\\lib\\site-packages (from ipython>=4.0.0->ipywidgets) (0.2.0)\n",
      "Requirement already satisfied: backcall in c:\\users\\dilar\\anaconda3\\lib\\site-packages (from ipython>=4.0.0->ipywidgets) (0.2.0)\n",
      "Requirement already satisfied: decorator in c:\\users\\dilar\\anaconda3\\lib\\site-packages (from ipython>=4.0.0->ipywidgets) (5.1.1)\n",
      "Requirement already satisfied: colorama in c:\\users\\dilar\\anaconda3\\lib\\site-packages (from ipython>=4.0.0->ipywidgets) (0.4.6)\n",
      "Requirement already satisfied: prompt-toolkit!=3.0.0,!=3.0.1,<3.1.0,>=2.0.0 in c:\\users\\dilar\\anaconda3\\lib\\site-packages (from ipython>=4.0.0->ipywidgets) (3.0.20)\n",
      "Requirement already satisfied: pygments>=2.4.0 in c:\\users\\dilar\\anaconda3\\lib\\site-packages (from ipython>=4.0.0->ipywidgets) (2.18.0)\n",
      "Requirement already satisfied: jedi>=0.16 in c:\\users\\dilar\\anaconda3\\lib\\site-packages (from ipython>=4.0.0->ipywidgets) (0.18.1)\n",
      "Requirement already satisfied: pickleshare in c:\\users\\dilar\\anaconda3\\lib\\site-packages (from ipython>=4.0.0->ipywidgets) (0.7.5)\n",
      "Requirement already satisfied: parso<0.9.0,>=0.8.0 in c:\\users\\dilar\\anaconda3\\lib\\site-packages (from jedi>=0.16->ipython>=4.0.0->ipywidgets) (0.8.3)\n",
      "Requirement already satisfied: jupyter-core>=4.6.0 in c:\\users\\dilar\\anaconda3\\lib\\site-packages (from jupyter-client<8.0->ipykernel>=4.5.1->ipywidgets) (4.9.2)\n",
      "Requirement already satisfied: python-dateutil>=2.1 in c:\\users\\dilar\\anaconda3\\lib\\site-packages (from jupyter-client<8.0->ipykernel>=4.5.1->ipywidgets) (2.8.2)\n",
      "Requirement already satisfied: pyzmq>=13 in c:\\users\\dilar\\anaconda3\\lib\\site-packages (from jupyter-client<8.0->ipykernel>=4.5.1->ipywidgets) (22.3.0)\n",
      "Requirement already satisfied: pywin32>=1.0 in c:\\users\\dilar\\anaconda3\\lib\\site-packages (from jupyter-core>=4.6.0->jupyter-client<8.0->ipykernel>=4.5.1->ipywidgets) (302)\n",
      "Requirement already satisfied: jsonschema>=2.6 in c:\\users\\dilar\\anaconda3\\lib\\site-packages (from nbformat>=4.2.0->ipywidgets) (4.4.0)\n",
      "Requirement already satisfied: fastjsonschema in c:\\users\\dilar\\anaconda3\\lib\\site-packages (from nbformat>=4.2.0->ipywidgets) (2.15.1)\n",
      "Requirement already satisfied: attrs>=17.4.0 in c:\\users\\dilar\\anaconda3\\lib\\site-packages (from jsonschema>=2.6->nbformat>=4.2.0->ipywidgets) (21.4.0)\n",
      "Requirement already satisfied: pyrsistent!=0.17.0,!=0.17.1,!=0.17.2,>=0.14.0 in c:\\users\\dilar\\anaconda3\\lib\\site-packages (from jsonschema>=2.6->nbformat>=4.2.0->ipywidgets) (0.18.0)\n",
      "Requirement already satisfied: wcwidth in c:\\users\\dilar\\anaconda3\\lib\\site-packages (from prompt-toolkit!=3.0.0,!=3.0.1,<3.1.0,>=2.0.0->ipython>=4.0.0->ipywidgets) (0.2.5)\n",
      "Requirement already satisfied: six>=1.5 in c:\\users\\dilar\\anaconda3\\lib\\site-packages (from python-dateutil>=2.1->jupyter-client<8.0->ipykernel>=4.5.1->ipywidgets) (1.16.0)\n",
      "Requirement already satisfied: notebook>=4.4.1 in c:\\users\\dilar\\anaconda3\\lib\\site-packages (from widgetsnbextension~=3.5.0->ipywidgets) (6.4.8)\n",
      "Requirement already satisfied: nbconvert in c:\\users\\dilar\\anaconda3\\lib\\site-packages (from notebook>=4.4.1->widgetsnbextension~=3.5.0->ipywidgets) (6.4.4)\n",
      "Requirement already satisfied: terminado>=0.8.3 in c:\\users\\dilar\\anaconda3\\lib\\site-packages (from notebook>=4.4.1->widgetsnbextension~=3.5.0->ipywidgets) (0.13.1)\n",
      "Requirement already satisfied: jinja2 in c:\\users\\dilar\\anaconda3\\lib\\site-packages (from notebook>=4.4.1->widgetsnbextension~=3.5.0->ipywidgets) (2.11.3)\n",
      "Requirement already satisfied: argon2-cffi in c:\\users\\dilar\\anaconda3\\lib\\site-packages (from notebook>=4.4.1->widgetsnbextension~=3.5.0->ipywidgets) (21.3.0)\n",
      "Requirement already satisfied: prometheus-client in c:\\users\\dilar\\anaconda3\\lib\\site-packages (from notebook>=4.4.1->widgetsnbextension~=3.5.0->ipywidgets) (0.13.1)\n",
      "Requirement already satisfied: Send2Trash>=1.8.0 in c:\\users\\dilar\\anaconda3\\lib\\site-packages (from notebook>=4.4.1->widgetsnbextension~=3.5.0->ipywidgets) (1.8.0)\n",
      "Requirement already satisfied: pywinpty>=1.1.0 in c:\\users\\dilar\\anaconda3\\lib\\site-packages (from terminado>=0.8.3->notebook>=4.4.1->widgetsnbextension~=3.5.0->ipywidgets) (2.0.2)\n",
      "Requirement already satisfied: argon2-cffi-bindings in c:\\users\\dilar\\anaconda3\\lib\\site-packages (from argon2-cffi->notebook>=4.4.1->widgetsnbextension~=3.5.0->ipywidgets) (21.2.0)\n",
      "Requirement already satisfied: cffi>=1.0.1 in c:\\users\\dilar\\anaconda3\\lib\\site-packages (from argon2-cffi-bindings->argon2-cffi->notebook>=4.4.1->widgetsnbextension~=3.5.0->ipywidgets) (1.15.0)\n",
      "Requirement already satisfied: pycparser in c:\\users\\dilar\\anaconda3\\lib\\site-packages (from cffi>=1.0.1->argon2-cffi-bindings->argon2-cffi->notebook>=4.4.1->widgetsnbextension~=3.5.0->ipywidgets) (2.21)\n",
      "Requirement already satisfied: MarkupSafe>=0.23 in c:\\users\\dilar\\anaconda3\\lib\\site-packages (from jinja2->notebook>=4.4.1->widgetsnbextension~=3.5.0->ipywidgets) (2.0.1)\n",
      "Requirement already satisfied: defusedxml in c:\\users\\dilar\\anaconda3\\lib\\site-packages (from nbconvert->notebook>=4.4.1->widgetsnbextension~=3.5.0->ipywidgets) (0.7.1)\n",
      "Requirement already satisfied: nbclient<0.6.0,>=0.5.0 in c:\\users\\dilar\\anaconda3\\lib\\site-packages (from nbconvert->notebook>=4.4.1->widgetsnbextension~=3.5.0->ipywidgets) (0.5.13)\n",
      "Requirement already satisfied: testpath in c:\\users\\dilar\\anaconda3\\lib\\site-packages (from nbconvert->notebook>=4.4.1->widgetsnbextension~=3.5.0->ipywidgets) (0.5.0)\n",
      "Requirement already satisfied: pandocfilters>=1.4.1 in c:\\users\\dilar\\anaconda3\\lib\\site-packages (from nbconvert->notebook>=4.4.1->widgetsnbextension~=3.5.0->ipywidgets) (1.5.0)\n",
      "Requirement already satisfied: entrypoints>=0.2.2 in c:\\users\\dilar\\anaconda3\\lib\\site-packages (from nbconvert->notebook>=4.4.1->widgetsnbextension~=3.5.0->ipywidgets) (0.4)\n",
      "Requirement already satisfied: beautifulsoup4 in c:\\users\\dilar\\anaconda3\\lib\\site-packages (from nbconvert->notebook>=4.4.1->widgetsnbextension~=3.5.0->ipywidgets) (4.11.1)\n",
      "Requirement already satisfied: mistune<2,>=0.8.1 in c:\\users\\dilar\\anaconda3\\lib\\site-packages (from nbconvert->notebook>=4.4.1->widgetsnbextension~=3.5.0->ipywidgets) (0.8.4)\n",
      "Requirement already satisfied: bleach in c:\\users\\dilar\\anaconda3\\lib\\site-packages (from nbconvert->notebook>=4.4.1->widgetsnbextension~=3.5.0->ipywidgets) (4.1.0)\n",
      "Requirement already satisfied: jupyterlab-pygments in c:\\users\\dilar\\anaconda3\\lib\\site-packages (from nbconvert->notebook>=4.4.1->widgetsnbextension~=3.5.0->ipywidgets) (0.1.2)\n",
      "Requirement already satisfied: soupsieve>1.2 in c:\\users\\dilar\\anaconda3\\lib\\site-packages (from beautifulsoup4->nbconvert->notebook>=4.4.1->widgetsnbextension~=3.5.0->ipywidgets) (2.3.1)\n",
      "Requirement already satisfied: webencodings in c:\\users\\dilar\\anaconda3\\lib\\site-packages (from bleach->nbconvert->notebook>=4.4.1->widgetsnbextension~=3.5.0->ipywidgets) (0.5.1)\n",
      "Requirement already satisfied: packaging in c:\\users\\dilar\\anaconda3\\lib\\site-packages (from bleach->nbconvert->notebook>=4.4.1->widgetsnbextension~=3.5.0->ipywidgets) (21.3)\n",
      "Requirement already satisfied: pyparsing!=3.0.5,>=2.0.2 in c:\\users\\dilar\\anaconda3\\lib\\site-packages (from packaging->bleach->nbconvert->notebook>=4.4.1->widgetsnbextension~=3.5.0->ipywidgets) (3.0.4)\n",
      "Requirement already satisfied: pure-eval in c:\\users\\dilar\\anaconda3\\lib\\site-packages (from stack-data->ipython>=4.0.0->ipywidgets) (0.2.2)\n",
      "Requirement already satisfied: asttokens in c:\\users\\dilar\\anaconda3\\lib\\site-packages (from stack-data->ipython>=4.0.0->ipywidgets) (2.0.5)\n",
      "Requirement already satisfied: executing in c:\\users\\dilar\\anaconda3\\lib\\site-packages (from stack-data->ipython>=4.0.0->ipywidgets) (0.8.3)\n"
     ]
    }
   ],
   "source": [
    "!pip install ipywidgets"
   ]
  },
  {
   "cell_type": "code",
   "execution_count": 19,
   "id": "1b5c6b55",
   "metadata": {},
   "outputs": [
    {
     "data": {
      "application/vnd.jupyter.widget-view+json": {
       "model_id": "6e43697b444d40d994f79a432be8057b",
       "version_major": 2,
       "version_minor": 0
      },
      "text/plain": [
       "Textarea(value='â€˜Yapay Zekaâ€™ kavramÄ± ilk duyuÅŸta ister akademisyen, Ã¶ÄŸretmen, Ã¶ÄŸrenci olsun ister', …"
      ]
     },
     "metadata": {},
     "output_type": "display_data"
    },
    {
     "data": {
      "application/vnd.jupyter.widget-view+json": {
       "model_id": "fe2a1fd91f7940988089aed2978e83b7",
       "version_major": 2,
       "version_minor": 0
      },
      "text/plain": [
       "Dropdown(description='Etiket:', options=('Kategori A', 'Kategori B', 'Kategori C'), value='Kategori A')"
      ]
     },
     "metadata": {},
     "output_type": "display_data"
    },
    {
     "data": {
      "application/vnd.jupyter.widget-view+json": {
       "model_id": "2b959203359e4dad8fce2d76d1104633",
       "version_major": 2,
       "version_minor": 0
      },
      "text/plain": [
       "Button(description='Sonraki', style=ButtonStyle())"
      ]
     },
     "metadata": {},
     "output_type": "display_data"
    },
    {
     "data": {
      "application/vnd.jupyter.widget-view+json": {
       "model_id": "2456150e324140608e0e31363ecca51d",
       "version_major": 2,
       "version_minor": 0
      },
      "text/plain": [
       "Button(description='Kaydet', style=ButtonStyle())"
      ]
     },
     "metadata": {},
     "output_type": "display_data"
    },
    {
     "name": "stdout",
     "output_type": "stream",
     "text": [
      "Tüm cümleler etiketlendi.\n"
     ]
    }
   ],
   "source": [
    "import ipywidgets as widgets\n",
    "from IPython.display import display, clear_output\n",
    "import pandas as pd\n",
    "\n",
    "# Metin verisini yükleme\n",
    "def load_text_file(file_path):\n",
    "    \"\"\"Bir metin dosyasını yükler ve cümlelere böler.\"\"\"\n",
    "    with open(file_path, 'r') as file:\n",
    "        content = file.read()\n",
    "    return content.split('\\n')  # Cümleleri satır bazında ayırır\n",
    "\n",
    "# Anotasyon arayüzü\n",
    "class TextAnnotator:\n",
    "    def __init__(self, text_lines):\n",
    "        self.text_lines = text_lines\n",
    "        self.annotations = []\n",
    "        self.index = 0\n",
    "        \n",
    "        # Etiketler\n",
    "        self.labels = ['Kategori A', 'Kategori B', 'Kategori C']\n",
    "        \n",
    "        # Arayüz bileşenleri\n",
    "        self.text_area = widgets.Textarea(\n",
    "            value=self.text_lines[self.index],\n",
    "            description='Cümle:',\n",
    "            layout=widgets.Layout(width='80%')\n",
    "        )\n",
    "        \n",
    "        self.label_selector = widgets.Dropdown(\n",
    "            options=self.labels,\n",
    "            description='Etiket:',\n",
    "        )\n",
    "        \n",
    "        self.next_button = widgets.Button(description=\"Sonraki\")\n",
    "        self.save_button = widgets.Button(description=\"Kaydet\")\n",
    "        \n",
    "        # Etkileşimler\n",
    "        self.next_button.on_click(self.next_line)\n",
    "        self.save_button.on_click(self.save_annotations)\n",
    "        \n",
    "        # Görüntüleme\n",
    "        display(self.text_area, self.label_selector, self.next_button, self.save_button)\n",
    "        \n",
    "    def next_line(self, _):\n",
    "        \"\"\"Sonraki cümleye geçer.\"\"\"\n",
    "        if self.index < len(self.text_lines) - 1:\n",
    "            self.annotations.append((self.text_lines[self.index], self.label_selector.value))\n",
    "            self.index += 1\n",
    "            self.text_area.value = self.text_lines[self.index]\n",
    "        else:\n",
    "            self.annotations.append((self.text_lines[self.index], self.label_selector.value))\n",
    "            print(\"Tüm cümleler etiketlendi.\")\n",
    "            self.text_area.value = \"Tamamlandı!\"\n",
    "            self.next_button.disabled = True\n",
    "\n",
    "    def save_annotations(self, _):\n",
    "        \"\"\"Etiketlenmiş verileri bir dosyaya kaydeder.\"\"\"\n",
    "        df = pd.DataFrame(self.annotations, columns=['Cümle', 'Etiket'])\n",
    "        df.to_csv('annotated_text.csv', index=False)\n",
    "        print(\"Etiketlenmiş veriler kaydedildi: annotated_text.csv\")\n",
    "\n",
    "# Metin dosyasının yolunu belirtin\n",
    "input_file = 'yapay_zeka.txt'  # Kendi metin dosyanızın yolunu buraya ekleyin\n",
    "\n",
    "# Metin verilerini yükle\n",
    "text_lines = load_text_file(input_file)\n",
    "\n",
    "# Anotasyon arayüzünü başlat\n",
    "annotator = TextAnnotator(text_lines)\n"
   ]
  },
  {
   "cell_type": "code",
   "execution_count": null,
   "id": "deae36bb",
   "metadata": {},
   "outputs": [],
   "source": []
  }
 ],
 "metadata": {
  "kernelspec": {
   "display_name": "Python 3 (ipykernel)",
   "language": "python",
   "name": "python3"
  },
  "language_info": {
   "codemirror_mode": {
    "name": "ipython",
    "version": 3
   },
   "file_extension": ".py",
   "mimetype": "text/x-python",
   "name": "python",
   "nbconvert_exporter": "python",
   "pygments_lexer": "ipython3",
   "version": "3.9.12"
  }
 },
 "nbformat": 4,
 "nbformat_minor": 5
}
